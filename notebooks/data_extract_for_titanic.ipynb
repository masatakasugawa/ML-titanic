{
 "cells": [
  {
   "cell_type": "code",
   "execution_count": null,
   "metadata": {},
   "outputs": [],
   "source": [
    "# done\n",
    "# !pip3 install python-dotenv"
   ]
  },
  {
   "cell_type": "code",
   "execution_count": 19,
   "metadata": {},
   "outputs": [],
   "source": [
    "from dotenv import load_dotenv, find_dotenv"
   ]
  },
  {
   "cell_type": "code",
   "execution_count": 20,
   "metadata": {},
   "outputs": [
    {
     "data": {
      "text/plain": [
       "True"
      ]
     },
     "execution_count": 20,
     "metadata": {},
     "output_type": "execute_result"
    }
   ],
   "source": [
    "# find .env automacitically\n",
    "dotenv_path = find_dotenv()\n",
    "# load up the entries as enviroment variables\n",
    "load_dotenv(dotenv_path)"
   ]
  },
  {
   "cell_type": "code",
   "execution_count": 21,
   "metadata": {},
   "outputs": [
    {
     "name": "stdout",
     "output_type": "stream",
     "text": [
      "msugawa\n"
     ]
    }
   ],
   "source": [
    "import os\n",
    "KAGGLE_USERNAME = os.environ.get(\"KAGGLE_USERNAME\")\n",
    "print(KAGGLE_USERNAME)"
   ]
  },
  {
   "cell_type": "code",
   "execution_count": 22,
   "metadata": {},
   "outputs": [],
   "source": [
    "# imports\n",
    "import requests\n",
    "from requests import session\n",
    "import os\n",
    "from dotenv import load_dotenv, find_dotenv"
   ]
  },
  {
   "cell_type": "code",
   "execution_count": null,
   "metadata": {},
   "outputs": [],
   "source": [
    "# payload for post\n",
    "payload = {\n",
    "            'action': 'login',\n",
    "            'username': os.environ.get(\"KAGGLE_USERNAME\"),\n",
    "            'password': os.environ.get(\"KAGGLE_PASSWORD\")\n",
    "}\n",
    "\n",
    "url='https://storage.googleapis.com/kagglesdsdata/competitions/3136/26502/train.csv?GoogleAccessId=web-data@kaggle-161607.iam.gserviceaccount.com&Expires=1614771183&Signature=DffBf59T2E5QVnaYMEX2YK%2FukJSZ9Cye8cjvqjJfOce2Y4IbDKilwIVZ425RfbKqYwwrgJa7fgOclR%2Foadu7oHil%2Fhprs3OcjivXRY3%2BKVR5ZxF9WI9FTzsejPPXgSlfa3RN7QQs%2BWOeE2hA0KS9Vx05rxkiOWAAm3TpIE2F4CAxvl5grOh67WoaC1Aozy3YOGAgjGsjsn3ugXDzkP9vs9JJzRHw5Zfc%2FidJMZx1P9rSzbajB6iTDLG2hy3J3PnqTdGeArIfs9ehZ8SWniW5Uoqjl17NKgcF4GCAZndIOO4XCGEDAoUi7a5ovgZNpmFxqb22%2Fs7pf9l%2FUjdjXPT71g%3D%3D&response-content-disposition=attachment%3B+filename%3Dtrain.csv'\n",
    "\n",
    "#setup session\n",
    "with session() as c:\n",
    "    #post requeset\n",
    "    c.post('https://www.kaggle.com/account/login', data=payload)\n",
    "    #get request\n",
    "    response = c.get(url)\n",
    "    #print response\n",
    "    print (response.text)"
   ]
  },
  {
   "cell_type": "code",
   "execution_count": 24,
   "metadata": {},
   "outputs": [],
   "source": [
    "from requests import session\n",
    "payload = {\n",
    "            'action': 'login',\n",
    "            'username': os.environ.get(\"KAGGLE_USERNAME\"),\n",
    "            'password': os.environ.get(\"KAGGLE_PASSWORD\")\n",
    "}\n",
    "\n",
    "def extract_data(url, file_path):\n",
    "    '''extract data from kaggle'''\n",
    "    # setup session\n",
    "    with session() as c:\n",
    "        c.post('https://www.kaggle.com/account/login', data=payload)\n",
    "        \n",
    "        # open file to write\n",
    "        with open(file_path, 'wb') as file:\n",
    "            response = c.get(url, stream=True)\n",
    "            for chunk in response.iter_content(chunk_size=1024):\n",
    "                file.write(chunk)\n"
   ]
  },
  {
   "cell_type": "code",
   "execution_count": 25,
   "metadata": {},
   "outputs": [],
   "source": [
    "# urls\n",
    "train_url = 'https://storage.googleapis.com/kagglesdsdata/competitions/3136/26502/train.csv?GoogleAccessId=web-data@kaggle-161607.iam.gserviceaccount.com&Expires=1614771183&Signature=DffBf59T2E5QVnaYMEX2YK%2FukJSZ9Cye8cjvqjJfOce2Y4IbDKilwIVZ425RfbKqYwwrgJa7fgOclR%2Foadu7oHil%2Fhprs3OcjivXRY3%2BKVR5ZxF9WI9FTzsejPPXgSlfa3RN7QQs%2BWOeE2hA0KS9Vx05rxkiOWAAm3TpIE2F4CAxvl5grOh67WoaC1Aozy3YOGAgjGsjsn3ugXDzkP9vs9JJzRHw5Zfc%2FidJMZx1P9rSzbajB6iTDLG2hy3J3PnqTdGeArIfs9ehZ8SWniW5Uoqjl17NKgcF4GCAZndIOO4XCGEDAoUi7a5ovgZNpmFxqb22%2Fs7pf9l%2FUjdjXPT71g%3D%3D&response-content-disposition=attachment%3B+filename%3Dtrain.csv'\n",
    "test_url = 'https://storage.googleapis.com/kagglesdsdata/competitions/3136/26502/test.csv?GoogleAccessId=web-data@kaggle-161607.iam.gserviceaccount.com&Expires=1614771979&Signature=tDQwDZc9uRaSjjLWIeid7PTxPonxrWVSiNHwf7%2FoNauZ3hLFpy5Uh5K6jLrimc0ncxCJToh2dPp%2BV1WB%2FXdfUmnkipDSXVsDAgt%2BL017NU6WzvNBfFxtbhTX7aD3QslB5DhKidI6VYhwOq%2B0NdW0CIKHeJdWvj4NBUcgWnQXTf%2BbpwyvQy%2Fu1Aas%2B4LEy%2F8dojED4Uv9sKVnUyL0t6Q3%2FqXkeWnEb2YW4wtruH4lJAAWKpKWFgJmFYINixsGp60Cz%2F6jPsYKFc0rYHgxqf0b2Dcuv0I4j7w%2B5nQdepLHUc9n%2FT%2FBSSVwbCBaRm0zoWpDbBExClLJAJJmERNVqHc%2Fmg%3D%3D&response-content-disposition=attachment%3B+filename%3Dtest.csv'\n",
    "\n",
    "# file paths\n",
    "raw_data_path = os.path.join(os.path.pardir, 'data', 'raw')\n",
    "train_data_path = os.path.join(raw_data_path, 'train.csv')\n",
    "test_data_path = os.path.join(raw_data_path, 'test.csv')\n",
    "\n",
    "# extract data\n",
    "extract_data(train_url, train_data_path)\n",
    "extract_data(test_url, test_data_path)"
   ]
  },
  {
   "cell_type": "code",
   "execution_count": 26,
   "metadata": {},
   "outputs": [
    {
     "name": "stdout",
     "output_type": "stream",
     "text": [
      "total 176\n",
      "-rw-r--r--  1 masatakasugawa  staff  28629  2 28 21:01 test.csv\n",
      "-rw-r--r--  1 masatakasugawa  staff  61194  2 28 21:01 train.csv\n"
     ]
    }
   ],
   "source": [
    "!ls -l ../data/raw"
   ]
  },
  {
   "cell_type": "markdown",
   "metadata": {},
   "source": [
    "Building the file script"
   ]
  },
  {
   "cell_type": "code",
   "execution_count": 28,
   "metadata": {},
   "outputs": [],
   "source": [
    "get_raw_data_script_file = os.path.join(os.path.pardir, 'src','data','get_raw_data.py')"
   ]
  },
  {
   "cell_type": "code",
   "execution_count": 32,
   "metadata": {},
   "outputs": [
    {
     "name": "stdout",
     "output_type": "stream",
     "text": [
      "Overwriting ../src/data/get_raw_data.py\n"
     ]
    }
   ],
   "source": [
    "%%writefile $get_raw_data_script_file\n",
    "# -*- coding: utf-8 -*-\n",
    "import os\n",
    "from dotenv import find_dotenv, load_dotenv\n",
    "from requests import session\n",
    "import logging\n",
    "\n",
    "# payload for login to kaggle\n",
    "payload = {\n",
    "            'action': 'login',\n",
    "            'username': os.environ.get(\"KAGGLE_USERNAME\"),\n",
    "            'password': os.environ.get(\"KAGGLE_PASSWORD\")\n",
    "}\n",
    "\n",
    "def extract_data(url, file_path):\n",
    "    '''method to extract data'''\n",
    "    # setup session\n",
    "    with session() as c:\n",
    "        c.post('https://www.kaggle.com/account/login', data=payload)\n",
    "        \n",
    "        # open file to write\n",
    "        with open(file_path, 'wb') as file:\n",
    "            response = c.get(url, stream=True)\n",
    "            for chunk in response.iter_content(chunk_size=1024):\n",
    "                file.write(chunk)\n",
    "\n",
    "def main(project_dir):\n",
    "    '''main method'''\n",
    "    # get logger\n",
    "    logger = logging.getLogger(__name__)\n",
    "    logger.info('getting raw data')\n",
    "                \n",
    "    # urls\n",
    "    train_url = 'https://storage.googleapis.com/kagglesdsdata/competitions/3136/26502/train.csv?GoogleAccessId=web-data@kaggle-161607.iam.gserviceaccount.com&Expires=1614771183&Signature=DffBf59T2E5QVnaYMEX2YK%2FukJSZ9Cye8cjvqjJfOce2Y4IbDKilwIVZ425RfbKqYwwrgJa7fgOclR%2Foadu7oHil%2Fhprs3OcjivXRY3%2BKVR5ZxF9WI9FTzsejPPXgSlfa3RN7QQs%2BWOeE2hA0KS9Vx05rxkiOWAAm3TpIE2F4CAxvl5grOh67WoaC1Aozy3YOGAgjGsjsn3ugXDzkP9vs9JJzRHw5Zfc%2FidJMZx1P9rSzbajB6iTDLG2hy3J3PnqTdGeArIfs9ehZ8SWniW5Uoqjl17NKgcF4GCAZndIOO4XCGEDAoUi7a5ovgZNpmFxqb22%2Fs7pf9l%2FUjdjXPT71g%3D%3D&response-content-disposition=attachment%3B+filename%3Dtrain.csv'\n",
    "    test_url = 'https://storage.googleapis.com/kagglesdsdata/competitions/3136/26502/test.csv?GoogleAccessId=web-data@kaggle-161607.iam.gserviceaccount.com&Expires=1614771979&Signature=tDQwDZc9uRaSjjLWIeid7PTxPonxrWVSiNHwf7%2FoNauZ3hLFpy5Uh5K6jLrimc0ncxCJToh2dPp%2BV1WB%2FXdfUmnkipDSXVsDAgt%2BL017NU6WzvNBfFxtbhTX7aD3QslB5DhKidI6VYhwOq%2B0NdW0CIKHeJdWvj4NBUcgWnQXTf%2BbpwyvQy%2Fu1Aas%2B4LEy%2F8dojED4Uv9sKVnUyL0t6Q3%2FqXkeWnEb2YW4wtruH4lJAAWKpKWFgJmFYINixsGp60Cz%2F6jPsYKFc0rYHgxqf0b2Dcuv0I4j7w%2B5nQdepLHUc9n%2FT%2FBSSVwbCBaRm0zoWpDbBExClLJAJJmERNVqHc%2Fmg%3D%3D&response-content-disposition=attachment%3B+filename%3Dtest.csv'\n",
    "\n",
    "    # file paths\n",
    "    raw_data_path = os.path.join(project_dir, 'data', 'raw')\n",
    "    train_data_path = os.path.join(raw_data_path, 'train.csv')\n",
    "    test_data_path = os.path.join(raw_data_path, 'test.csv')\n",
    "\n",
    "    # extract data\n",
    "    extract_data(train_url, train_data_path)\n",
    "    extract_data(test_url, test_data_path)\n",
    "    logger.info('downloaded raw tranining and test data')\n",
    "\n",
    "if __name__ == '__main__':\n",
    "    # getting root directory\n",
    "    project_dir = os.path.join(os.path.dirname(__file__), os.pardir, os.pardir)\n",
    "    \n",
    "    # setup logger\n",
    "    log_fmt = '%(asctime)s - %(name)s - %(levelname)s - %(message)s'\n",
    "    logging.basicConfig(level=logging.INFO, format=log_fmt)\n",
    "    \n",
    "    # find .env automatically by walking up directories until it's found\n",
    "    dotenv_path = find_dotenv()\n",
    "    # load up the entries as environment variables\n",
    "    load_dotenv(dotenv_path)\n",
    "    \n",
    "    # call the main\n",
    "    main(project_dir)"
   ]
  },
  {
   "cell_type": "code",
   "execution_count": 33,
   "metadata": {},
   "outputs": [
    {
     "name": "stdout",
     "output_type": "stream",
     "text": [
      "2021-02-28 21:19:45,718 - __main__ - INFO - getting raw data\n",
      "2021-02-28 21:19:47,435 - __main__ - INFO - downloaded raw tranining and test data\n"
     ]
    }
   ],
   "source": [
    "!python3 $get_raw_data_script_file"
   ]
  },
  {
   "cell_type": "code",
   "execution_count": null,
   "metadata": {},
   "outputs": [],
   "source": []
  }
 ],
 "metadata": {
  "kernelspec": {
   "display_name": "Python 3",
   "language": "python",
   "name": "python3"
  },
  "language_info": {
   "codemirror_mode": {
    "name": "ipython",
    "version": 3
   },
   "file_extension": ".py",
   "mimetype": "text/x-python",
   "name": "python",
   "nbconvert_exporter": "python",
   "pygments_lexer": "ipython3",
   "version": "3.8.5"
  }
 },
 "nbformat": 4,
 "nbformat_minor": 4
}
